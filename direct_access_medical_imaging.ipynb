{
  "cells": [
    {
      "cell_type": "markdown",
      "metadata": {
        "id": "view-in-github",
        "colab_type": "text"
      },
      "source": [
        "<a href=\"https://colab.research.google.com/github/SanjidaJahanTanha/Annual-SaleReport/blob/main/direct_access_medical_imaging.ipynb\" target=\"_parent\"><img src=\"https://colab.research.google.com/assets/colab-badge.svg\" alt=\"Open In Colab\"/></a>"
      ]
    },
    {
      "cell_type": "code",
      "execution_count": null,
      "metadata": {
        "id": "GiDmIbVDBSWx"
      },
      "outputs": [],
      "source": [
        "#Install Kaggle API and Setup Kaggle API Key\n",
        "from google.colab import files\n",
        "files.upload()  # This will prompt you to upload the kaggle.json file\n",
        "\n",
        "!mkdir -p ~/.kaggle\n",
        "!cp kaggle.json ~/.kaggle/\n",
        "!chmod 600 ~/.kaggle/kaggle.json\n"
      ]
    },
    {
      "cell_type": "code",
      "execution_count": null,
      "metadata": {
        "colab": {
          "base_uri": "https://localhost:8080/"
        },
        "id": "t3DzDuuaCbvd",
        "outputId": "04df210a-1331-4bf3-d5b6-70ff69f6e320"
      },
      "outputs": [
        {
          "name": "stdout",
          "output_type": "stream",
          "text": [
            "rsna-pneumonia-detection-challenge.zip: Skipping, found more recently modified local copy (use --force to force download)\n",
            "replace /content/rsna-pneumonia-detection-challenge/GCP Credits Request Link - RSNA.txt? [y]es, [n]o, [A]ll, [N]one, [r]ename: "
          ]
        }
      ],
      "source": [
        "# Download the Dataset Directly from Kaggle\n",
        "!kaggle competitions download -c rsna-pneumonia-detection-challenge -p /content\n",
        "!unzip -q /content/rsna-pneumonia-detection-challenge.zip -d /content/rsna-pneumonia-detection-challenge"
      ]
    },
    {
      "cell_type": "code",
      "execution_count": null,
      "metadata": {
        "id": "6EfEgjmRQ03u"
      },
      "outputs": [],
      "source": [
        "# verify if the dataset was extracted correctly\n",
        "import os\n",
        "\n",
        "# Expected file path\n",
        "img_path = '/content/rsna-pneumonia-detection-challenge/stage_2_train_images/0004cfab-14fd-4e49-80ba-63afce7341b9.dcm'\n",
        "\n",
        "# Check if the file exists\n",
        "if os.path.exists(img_path):\n",
        "    print(f\"File found at: {img_path}\")\n",
        "else:\n",
        "    print(f\"File NOT found at: {img_path}\")\n",
        "    print(\"Checking if the directory exists...\")\n",
        "\n",
        "    # Check if the directory exists\n",
        "    dir_path = '/content/rsna-pneumonia-detection-challenge/stage_2_train_images/'\n",
        "    if os.path.exists(dir_path):\n",
        "        print(f\"Directory found: {dir_path}\")\n",
        "        print(\"List of files in the directory:\")\n",
        "        !ls {dir_path}  # List files in the directory to see if the file is present with a different name\n",
        "    else:\n",
        "        print(f\"Directory NOT found: {dir_path}\")\n",
        "        print(\"The dataset might not have been extracted correctly.\")"
      ]
    },
    {
      "cell_type": "code",
      "execution_count": null,
      "metadata": {
        "id": "cPkJztyvpOfg"
      },
      "outputs": [],
      "source": [
        "#Install Necessary Packages\n",
        "!pip install tensorflow torch torchvision"
      ]
    },
    {
      "cell_type": "code",
      "execution_count": null,
      "metadata": {
        "colab": {
          "background_save": true
        },
        "id": "xHY20OW5QC2l",
        "outputId": "ad81bbd3-c5f7-43c2-e6b7-43723c6245cd"
      },
      "outputs": [
        {
          "name": "stdout",
          "output_type": "stream",
          "text": [
            "Requirement already satisfied: pydicom in /usr/local/lib/python3.10/dist-packages (2.4.4)\n"
          ]
        }
      ],
      "source": [
        "#Data Preprocessing\n",
        "!pip install pydicom\n",
        "import pandas as pd\n",
        "import numpy as np\n",
        "import os\n",
        "import cv2\n",
        "import matplotlib.pyplot as plt\n",
        "from sklearn.model_selection import train_test_split\n",
        "import pydicom\n",
        "# Import pydicom to handle DICOM files\n",
        "\n",
        "# Load dataset CSV\n",
        "\n",
        "train_labels = pd.read_csv('/content/rsna-pneumonia-detection-challenge/stage_2_train_labels.csv')\n",
        "# Display the first few rows\n",
        "print(train_labels.head())\n",
        "\n",
        "# Preprocess images\n",
        "def preprocess_image(img_path, target_size=(224, 224)):\n",
        "    # Read DICOM file\n",
        "    ds = pydicom.dcmread(img_path)\n",
        "    img = ds.pixel_array\n",
        "\n",
        "    # Convert to grayscale if needed\n",
        "    if img.ndim > 2:\n",
        "        img = cv2.cvtColor(img, cv2.COLOR_BGR2GRAY)\n",
        "\n",
        "    img = cv2.resize(img, target_size)\n",
        "    img = cv2.equalizeHist(img)  # Histogram equalization\n",
        "    img = img / 255.0  # Normalize\n",
        "    return img\n",
        "\n",
        "# Verify the file exists\n",
        "img_path = '/content/rsna-pneumonia-detection-challenge/stage_2_train_images/0004cfab-14fd-4e49-80ba-63afce7341b9.dcm'\n",
        "if os.path.exists(img_path):\n",
        "    img = preprocess_image(img_path)\n",
        "    plt.imshow(img, cmap='gray')\n",
        "    plt.show()\n",
        "else:\n",
        "    print(f\"File not found: {img_path}\")\n",
        "    # Investigate why the file is missing - re-download dataset, check extraction, etc."
      ]
    },
    {
      "cell_type": "code",
      "execution_count": null,
      "metadata": {
        "id": "HVsk7V5q_gni"
      },
      "outputs": [],
      "source": [
        "#YOLO Model Implementation\n",
        "# Example code to load and use a pre-trained YOLO model (using TensorFlow)\n",
        "\n",
        "from tensorflow.keras.applications import YOLO\n",
        "\n",
        "# Load a pre-trained YOLO model\n",
        "model = YOLO(weights='imagenet')\n",
        "\n",
        "# Example prediction\n",
        "img = preprocess_image('/content/rsna-pneumonia-detection-challenge/stage_2_train_images/sample_image.dcm')\n",
        "prediction = model.predict(np.expand_dims(img, axis=0))\n",
        "print(prediction)\n"
      ]
    },
    {
      "cell_type": "code",
      "execution_count": null,
      "metadata": {
        "id": "Wt4XVjYY_oE_"
      },
      "outputs": [],
      "source": [
        "#Faster R-CNN and SSD Implementation\n",
        "# Example code to load and use pre-trained Faster R-CNN and SSD models (using PyTorch)\n",
        "\n",
        "import torch\n",
        "import torchvision\n",
        "from torchvision.models.detection import fasterrcnn_resnet50_fpn, ssd300_vgg16\n",
        "\n",
        "# Load pre-trained Faster R-CNN model\n",
        "faster_rcnn_model = fasterrcnn_resnet50_fpn(pretrained=True)\n",
        "faster_rcnn_model.eval()\n",
        "\n",
        "# Load pre-trained SSD model\n",
        "ssd_model = ssd300_vgg16(pretrained=True)\n",
        "ssd_model.eval()\n",
        "\n",
        "# Example prediction with Faster R-CNN\n",
        "img_tensor = transforms.ToTensor()(img)\n",
        "prediction = faster_rcnn_model([img_tensor])\n",
        "print(prediction)\n"
      ]
    },
    {
      "cell_type": "code",
      "execution_count": null,
      "metadata": {
        "id": "i2HGCj8t_wQv"
      },
      "outputs": [],
      "source": [
        "# Ensemble Techniques, Combine predictions from YOLO, Faster R-CNN, and SSD\n",
        "yolo_prediction = model.predict(np.expand_dims(img, axis=0))\n",
        "faster_rcnn_prediction = faster_rcnn_model([img_tensor])\n",
        "ssd_prediction = ssd_model([img_tensor])\n",
        "\n",
        "# Example of ensemble averaging (adjust based on your predictions)\n",
        "ensemble_prediction = (yolo_prediction + faster_rcnn_prediction + ssd_prediction) / 3\n",
        "print(ensemble_prediction)\n"
      ]
    },
    {
      "cell_type": "code",
      "execution_count": null,
      "metadata": {
        "id": "R0h-W9wm_yPt"
      },
      "outputs": [],
      "source": [
        "# Evaluate Models, Example code for evaluation (adjust as per your evaluation metrics)\n",
        "from sklearn.metrics import accuracy_score, precision_score, recall_score, f1_score\n",
        "\n",
        "true_labels = [0, 1, 0, 1]  # Example true labels\n",
        "predicted_labels = [0, 1, 0, 0]  # Example predicted labels\n",
        "\n",
        "accuracy = accuracy_score(true_labels, predicted_labels)\n",
        "precision = precision_score(true_labels, predicted_labels)\n",
        "recall = recall_score(true_labels, predicted_labels)\n",
        "f1 = f1_score(true_labels, predicted_labels)\n",
        "\n",
        "print(f\"Accuracy: {accuracy}, Precision: {precision}, Recall: {recall}, F1-score: {f1}\")\n"
      ]
    },
    {
      "cell_type": "code",
      "execution_count": null,
      "metadata": {
        "id": "iGlxCx8w_7uH"
      },
      "outputs": [],
      "source": [
        "#Explainability Methods, Example code for using LIME (adjust based on your implementation)\n",
        "from lime.lime_image import LimeImageExplainer\n",
        "\n",
        "explainer = LimeImageExplainer()\n",
        "explanation = explainer.explain_instance(img, model.predict, top_labels=1, num_samples=1000)"
      ]
    },
    {
      "cell_type": "code",
      "execution_count": null,
      "metadata": {
        "id": "ZPzH8ZH-ABI_"
      },
      "outputs": [],
      "source": [
        "#Visualize Explainability, Example code for visualizing Grad-CAM (adjust based on your implementation)\n",
        "import matplotlib.pyplot as plt\n",
        "from torchvision.models import resnet50\n",
        "from torchcam.cams import GradCAM\n",
        "\n",
        "model = resnet50(pretrained=True)\n",
        "cam = GradCAM(model=model, target_layer='layer4')\n",
        "\n",
        "# Visualize Grad-CAM heatmap\n",
        "heatmap = cam(input_tensor)\n",
        "plt.imshow(heatmap)\n",
        "plt.show()\n"
      ]
    }
  ],
  "metadata": {
    "colab": {
      "gpuType": "T4",
      "provenance": [],
      "authorship_tag": "ABX9TyPDSE/nmgiHbUZ1fk0/PCow",
      "include_colab_link": true
    },
    "kernelspec": {
      "display_name": "Python 3",
      "name": "python3"
    },
    "language_info": {
      "name": "python"
    }
  },
  "nbformat": 4,
  "nbformat_minor": 0
}